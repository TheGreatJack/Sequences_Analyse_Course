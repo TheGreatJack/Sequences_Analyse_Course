{
 "cells": [
  {
   "cell_type": "markdown",
   "metadata": {},
   "source": [
    "# ncRNA prediction pipeline\n",
    "\n",
    "For ncRNA prediction 3 programs were utilized:\n",
    "\n",
    "- Infernal: Used to predict multiple types of ncRNA comparing against the Rfam database\n",
    "- tRNAscan: Used to precit eukaryotic tRNAs\n",
    "- RNAmmer: Used to predict RNA sub\n",
    "\n",
    "## Input:\n",
    "\n",
    "1. Sacha inchi draft genome : \"Sacha_softmasked.fasta\"\n",
    "2. Sacha inchi Maker gene prediciton **(for tRNAscan only)**: \"Sacha_genepred.gff\"\n",
    "3. Rfam database covariance models (cm) **(for Infernal only)**"
   ]
  },
  {
   "cell_type": "markdown",
   "metadata": {},
   "source": [
    "<br><br><br>\n",
    "# Infernal\n",
    "\n",
    "Flowchart:<br>\n",
    "<img src=\"./images/ncRNA_analisis.png\" width=450>\n",
    "\n",
    "## Input:\n",
    "\n",
    "1. Sacha inchi draft genome : \"Sacha_softmasked.fasta\"\n",
    "3. Rfam database covariance models (cm)\n",
    "\n",
    "\n",
    "First precalibrated cms of all Rfam families are downloaded from the Rfam v14.5 FTP site, then extracted and merged to be used on infernal"
   ]
  },
  {
   "cell_type": "code",
   "execution_count": 1,
   "metadata": {},
   "outputs": [
    {
     "name": "stdout",
     "output_type": "stream",
     "text": [
      "total 8,0K\n",
      "drwxr-xr-x 2 anderjackf anderjackf 4,0K abr  5 22:36 images\n",
      "-rw-r--r-- 1 anderjackf anderjackf 2,2K abr  5 22:50 Sacha_ncRNA_prediction.ipynb\n"
     ]
    }
   ],
   "source": [
    "!mkdir rfam_cms\n",
    "!cd rfam_cms\n",
    "\n",
    "!wget ftp://ftp.ebi.ac.uk/pub/databases/Rfam/14.5/Rfam.tar.gz\n",
    "!tar -xvf Rfam.tar.gz & rm Rfam.tar.gz\n",
    "\n",
    "#All the cm files are concatenated in a file, \"all_families.cm\"\n",
    "!cat *.cm > all_families.cm\n",
    "\n",
    "!cd ..\n",
    "!ls -lh rfam_cms/"
   ]
  },
  {
   "cell_type": "markdown",
   "metadata": {},
   "source": [
    "After de Rfam data is set up we can run infernal to get predictions:"
   ]
  },
  {
   "cell_type": "code",
   "execution_count": null,
   "metadata": {},
   "outputs": [],
   "source": [
    "!genome=\"genome/Sacha_softmasked.fasta\"\n",
    "!database=\"rfam_cms/all_families.cm\"\n",
    "!mkdir infernal_output\n",
    "!output=\"infernal_output/\"\n",
    "\n",
    "!cmscan --tblout $output/result_infernal.tbl --fmt 2 --notextw --cpu 24 $database $genome"
   ]
  },
  {
   "cell_type": "markdown",
   "metadata": {},
   "source": [
    "Knowing that the 19th column stores data about the significance of the hits, any record that has a \"!\" is a significant hit. An E-vale of 0.01 is considered significant. In total 7131 hits were significant."
   ]
  },
  {
   "cell_type": "code",
   "execution_count": null,
   "metadata": {},
   "outputs": [],
   "source": [
    "!awk -v OFS=\"\\t\" '{ if ($19 == \"!\") print $0}' result_infernal.tbl > significant_hits.tsv"
   ]
  },
  {
   "cell_type": "markdown",
   "metadata": {},
   "source": [
    "Downloading entry type by family data on Rfam(https://rfam.xfam.org/search#tabview=tab5) we can clasify hits in broad categories. To do this we'll use a python helper script ."
   ]
  },
  {
   "cell_type": "code",
   "execution_count": 8,
   "metadata": {},
   "outputs": [],
   "source": [
    "!python infernal_pie_chart.py RFAM_entry_type.tsv significant_hits.tsv ./images/pie_charts"
   ]
  },
  {
   "cell_type": "markdown",
   "metadata": {},
   "source": [
    "The graphs:<br>\n",
    "<img src=\"./images/pie_charts_1.png\" width=800><br>\n",
    "<img src=\"./images/pie_charts_2.png\" width=800>\n",
    "\n",
    "As you can see most of the hits correspond to Genes, the rest are Introns ans Cis-reg elements. Within the \"Genes\" category we see that most of the hits correspond to miRNA rRNA snRNA and tRNA. "
   ]
  },
  {
   "cell_type": "markdown",
   "metadata": {},
   "source": [
    "<br><br><br>\n",
    "# tRNAscan\n",
    "\n",
    "For this prediction tRNAscan was run within MAKER gene prediction pipeline, so the results of tRNAscan prediction are withtin the sacha gff file prediction. To extract the tRNA type occurrence data, the following command is used:"
   ]
  },
  {
   "cell_type": "code",
   "execution_count": 10,
   "metadata": {},
   "outputs": [
    {
     "name": "stdout",
     "output_type": "stream",
     "text": [
      "Pseudo_Gln\t1\t0.001869158878504673\n",
      "Pseudo_Gly\t1\t0.001869158878504673\n",
      "Pseudo_Asn\t1\t0.001869158878504673\n",
      "Pseudo_Arg\t1\t0.001869158878504673\n",
      "Pseudo_Phe\t1\t0.001869158878504673\n",
      "Pseudo_iMet\t1\t0.001869158878504673\n",
      "Pseudo_Glu\t1\t0.001869158878504673\n",
      "Pseudo_Lys\t1\t0.001869158878504673\n",
      "Pseudo_Leu\t2\t0.003738317757009346\n",
      "Pseudo_Ser\t2\t0.003738317757009346\n",
      "Sup\t2\t0.003738317757009346\n",
      "Pseudo_Asp\t3\t0.005607476635514018\n",
      "Undet\t3\t0.005607476635514018\n",
      "Pseudo_Val\t4\t0.007476635514018692\n",
      "Pseudo_Undet\t7\t0.013084112149532711\n",
      "iMet\t10\t0.018691588785046728\n",
      "Cys\t12\t0.022429906542056073\n",
      "Trp\t13\t0.024299065420560748\n",
      "His\t14\t0.026168224299065422\n",
      "Tyr\t16\t0.029906542056074768\n",
      "Asn\t16\t0.029906542056074768\n",
      "Phe\t17\t0.03177570093457944\n",
      "Ile\t18\t0.03364485981308411\n",
      "Gln\t18\t0.03364485981308411\n",
      "Asp\t24\t0.044859813084112146\n",
      "Lys\t24\t0.044859813084112146\n",
      "Thr\t24\t0.044859813084112146\n",
      "Met\t25\t0.04672897196261682\n",
      "Pro\t28\t0.052336448598130844\n",
      "Val\t28\t0.052336448598130844\n",
      "Glu\t29\t0.05420560747663551\n",
      "Gly\t33\t0.0616822429906542\n",
      "Ala\t33\t0.0616822429906542\n",
      "Arg\t34\t0.06355140186915888\n",
      "Ser\t44\t0.08224299065420561\n",
      "Leu\t44\t0.08224299065420561\n"
     ]
    }
   ],
   "source": [
    "!grep \"trnascan\" /home/anderjackf/Universidad/Semillero_biocomp/Sacha/experimental/gene_prediction/backup/run_20/gene_models_manual_work_2.gff | egrep -o \"trnascan.*noncoding-.*-gene\" | cut -f 4 -d \"-\" | python item_occurrence.py\n",
    "#!grep \"trnascan\" Sacha_genepred.gff | egrep -o \"trnascan.*noncoding-.*-gene\" | cut -f 4 -d \"-\" | python item_occurrence.py"
   ]
  },
  {
   "cell_type": "code",
   "execution_count": 8,
   "metadata": {},
   "outputs": [
    {
     "name": "stdout",
     "output_type": "stream",
     "text": [
      "Ile:\n",
      " \tTAT\t6\t0.3333333333333333\n",
      " \tAAT\t12\t0.6666666666666666\n",
      "-----------------------------------------\n",
      "Pseudo_Undet:\n",
      " \tNNN\t7\t1.0\n",
      "-----------------------------------------\n",
      "His:\n",
      " \tGTG\t14\t1.0\n",
      "-----------------------------------------\n",
      "Val:\n",
      " \tGAC\t2\t0.07142857142857142\n",
      " \tTAC\t5\t0.17857142857142858\n",
      " \tCAC\t7\t0.25\n",
      " \tAAC\t14\t0.5\n",
      "-----------------------------------------\n",
      "Thr:\n",
      " \tGGT\t1\t0.041666666666666664\n",
      " \tCGT\t3\t0.125\n",
      " \tTGT\t10\t0.4166666666666667\n",
      " \tAGT\t10\t0.4166666666666667\n",
      "-----------------------------------------\n",
      "Ser:\n",
      " \tCGA\t3\t0.06818181818181818\n",
      " \tGGA\t6\t0.13636363636363635\n",
      " \tTGA\t9\t0.20454545454545456\n",
      " \tAGA\t10\t0.22727272727272727\n",
      " \tGCT\t16\t0.36363636363636365\n",
      "-----------------------------------------\n",
      "Lys:\n",
      " \tCTT\t11\t0.4583333333333333\n",
      " \tTTT\t13\t0.5416666666666666\n",
      "-----------------------------------------\n",
      "Pseudo_Arg:\n",
      " \tTCT\t1\t1.0\n",
      "-----------------------------------------\n",
      "Leu:\n",
      " \tCAG\t5\t0.11363636363636363\n",
      " \tTAG\t7\t0.1590909090909091\n",
      " \tTAA\t10\t0.22727272727272727\n",
      " \tCAA\t11\t0.25\n",
      " \tAAG\t11\t0.25\n",
      "-----------------------------------------\n",
      "Gln:\n",
      " \tCTG\t9\t0.5\n",
      " \tTTG\t9\t0.5\n",
      "-----------------------------------------\n",
      "Pseudo_Asn:\n",
      " \tGTT\t1\t1.0\n",
      "-----------------------------------------\n",
      "Pseudo_Ser:\n",
      " \tTGA\t1\t0.5\n",
      " \tGGA\t1\t0.5\n",
      "-----------------------------------------\n",
      "Pseudo_Glu:\n",
      " \tCTC\t1\t1.0\n",
      "-----------------------------------------\n",
      "iMet:\n",
      " \tCAT\t10\t1.0\n",
      "-----------------------------------------\n",
      "Trp:\n",
      " \tCCA\t13\t1.0\n",
      "-----------------------------------------\n",
      "Asn:\n",
      " \tGTT\t16\t1.0\n",
      "-----------------------------------------\n",
      "Phe:\n",
      " \tGAA\t17\t1.0\n",
      "-----------------------------------------\n",
      "Pseudo_Gln:\n",
      " \tTTG\t1\t1.0\n",
      "-----------------------------------------\n",
      "Pro:\n",
      " \tCGG\t3\t0.10714285714285714\n",
      " \tAGG\t10\t0.35714285714285715\n",
      " \tTGG\t15\t0.5357142857142857\n",
      "-----------------------------------------\n",
      "Undet:\n",
      " \tNNN\t3\t1.0\n",
      "-----------------------------------------\n",
      "Pseudo_Asp:\n",
      " \tGTC\t1\t0.3333333333333333\n",
      " \tATC\t2\t0.6666666666666666\n",
      "-----------------------------------------\n",
      "Met:\n",
      " \tCAT\t25\t1.0\n",
      "-----------------------------------------\n",
      "Sup:\n",
      " \tCTA\t2\t1.0\n",
      "-----------------------------------------\n",
      "Gly:\n",
      " \tCCC\t4\t0.12121212121212122\n",
      " \tTCC\t12\t0.36363636363636365\n",
      " \tGCC\t17\t0.5151515151515151\n",
      "-----------------------------------------\n",
      "Pseudo_Gly:\n",
      " \tGCC\t1\t1.0\n",
      "-----------------------------------------\n",
      "Pseudo_Phe:\n",
      " \tAAA\t1\t1.0\n",
      "-----------------------------------------\n",
      "Tyr:\n",
      " \tGTA\t16\t1.0\n",
      "-----------------------------------------\n",
      "Pseudo_Val:\n",
      " \tCAC\t1\t0.25\n",
      " \tTAC\t1\t0.25\n",
      " \tGAC\t2\t0.5\n",
      "-----------------------------------------\n",
      "Ala:\n",
      " \tCGC\t4\t0.12121212121212122\n",
      " \tTGC\t12\t0.36363636363636365\n",
      " \tAGC\t17\t0.5151515151515151\n",
      "-----------------------------------------\n",
      "Asp:\n",
      " \tGTC\t24\t1.0\n",
      "-----------------------------------------\n",
      "Pseudo_Leu:\n",
      " \tCAA\t1\t0.5\n",
      " \tCAG\t1\t0.5\n",
      "-----------------------------------------\n",
      "Pseudo_Lys:\n",
      " \tCTT\t1\t1.0\n",
      "-----------------------------------------\n",
      "Pseudo_iMet:\n",
      " \tCAT\t1\t1.0\n",
      "-----------------------------------------\n",
      "Arg:\n",
      " \tCCG\t4\t0.11764705882352941\n",
      " \tTCG\t6\t0.17647058823529413\n",
      " \tCCT\t6\t0.17647058823529413\n",
      " \tACG\t8\t0.23529411764705882\n",
      " \tTCT\t10\t0.29411764705882354\n",
      "-----------------------------------------\n",
      "Cys:\n",
      " \tACA\t1\t0.08333333333333333\n",
      " \tGCA\t11\t0.9166666666666666\n",
      "-----------------------------------------\n",
      "Glu:\n",
      " \tCTC\t10\t0.3448275862068966\n",
      " \tTTC\t19\t0.6551724137931034\n",
      "-----------------------------------------\n"
     ]
    }
   ],
   "source": [
    "#!grep \"trnascan\" /home/anderjackf/Universidad/Semillero_biocomp/Sacha/experimental/gene_prediction/backup/run_20/gene_models_manual_work_2.gff | egrep -o \"trnascan.*noncoding-.*-gene\" | cut -f 4 -d \"-\" | python codon_occurrence.py\n",
    "!grep \"trnascan\" Sacha_genepred.gff | egrep -o \"trnascan.*noncoding-.*-gene\" | cut -f 4 -d \"-\" | python codon_occurrence.py"
   ]
  },
  {
   "cell_type": "markdown",
   "metadata": {},
   "source": [
    "In the previous result, the second column corresponds to tRNA type counts, and the third corresponds to tRNA type\n",
    "frecuency. Leucine, Serine and Arginine are the most common tRNAs found on Sacha inchi's draft genome"
   ]
  },
  {
   "cell_type": "code",
   "execution_count": null,
   "metadata": {},
   "outputs": [],
   "source": []
  },
  {
   "cell_type": "markdown",
   "metadata": {},
   "source": [
    "<br><br><br>\n",
    "# RNAmmer"
   ]
  },
  {
   "cell_type": "code",
   "execution_count": null,
   "metadata": {},
   "outputs": [],
   "source": []
  }
 ],
 "metadata": {
  "kernelspec": {
   "display_name": "Python 3",
   "language": "python",
   "name": "python3"
  },
  "language_info": {
   "codemirror_mode": {
    "name": "ipython",
    "version": 3
   },
   "file_extension": ".py",
   "mimetype": "text/x-python",
   "name": "python",
   "nbconvert_exporter": "python",
   "pygments_lexer": "ipython3",
   "version": "3.7.6"
  }
 },
 "nbformat": 4,
 "nbformat_minor": 4
}
